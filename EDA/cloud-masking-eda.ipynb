{
 "cells": [
  {
   "cell_type": "code",
   "execution_count": 1,
   "metadata": {
    "_cell_guid": "b1076dfc-b9ad-4769-8c92-a6c4dae69d19",
    "_uuid": "8f2839f25d086af736a60e9eeb907d3b93b6e0e5",
    "execution": {
     "iopub.execute_input": "2025-04-27T04:10:01.879198Z",
     "iopub.status.busy": "2025-04-27T04:10:01.878845Z",
     "iopub.status.idle": "2025-04-27T04:10:02.267309Z",
     "shell.execute_reply": "2025-04-27T04:10:02.266137Z",
     "shell.execute_reply.started": "2025-04-27T04:10:01.879159Z"
    },
    "trusted": true
   },
   "outputs": [],
   "source": [
    "###### This Python 3 environment comes with many helpful analytics libraries installed\n",
    "# It is defined by the kaggle/python Docker image: https://github.com/kaggle/docker-python\n",
    "# For example, here's several helpful packages to load\n",
    "\n",
    "import numpy as np # linear algebra\n",
    "import pandas as pd # data processing, CSV file I/O (e.g. pd.read_csv)\n",
    "\n",
    "# Input data files are available in the read-only \"../input/\" directory\n",
    "# For example, running this (by clicking run or pressing Shift+Enter) will list all files under the input directory\n",
    "\n",
    "import os\n",
    "\n",
    "# You can write up to 20GB to the current directory (/kaggle/working/) that gets preserved as output when you create a version using \"Save & Run All\" \n",
    "# You can also write temporary files to /kaggle/temp/, but they won't be saved outside of the current session"
   ]
  },
  {
   "cell_type": "code",
   "execution_count": null,
   "metadata": {
    "execution": {
     "iopub.execute_input": "2025-04-27T04:25:21.768402Z",
     "iopub.status.busy": "2025-04-27T04:25:21.768098Z",
     "iopub.status.idle": "2025-04-27T04:25:22.670897Z",
     "shell.execute_reply": "2025-04-27T04:25:22.669976Z",
     "shell.execute_reply.started": "2025-04-27T04:25:21.768379Z"
    },
    "trusted": true
   },
   "outputs": [
    {
     "name": "stdout",
     "output_type": "stream",
     "text": [
      "✅ Loaded existing mislabeled_flags.csv\n"
     ]
    },
    {
     "data": {
      "application/vnd.jupyter.widget-view+json": {
       "model_id": "4ef0e460e6a849d3b623534c03fc6448",
       "version_major": 2,
       "version_minor": 0
      },
      "text/plain": [
       "VBox(children=(IntSlider(value=0, description='Index', max=10572), Button(description='Toggle Mislabeled', sty…"
      ]
     },
     "metadata": {},
     "output_type": "display_data"
    }
   ],
   "source": [
    "import os\n",
    "import tifffile as tiff\n",
    "import matplotlib.pyplot as plt\n",
    "import ipywidgets as widgets\n",
    "from IPython.display import display, clear_output\n",
    "\n",
    "# relative path to dataset, change according to need\n",
    "DATASET_PATH = '/kaggle/input/cloud-masking-dataset/'\n",
    "\n",
    "# Paths\n",
    "data_path = DATASET_PATH + 'content/train/data'\n",
    "mask_path = DATASET_PATH + 'content/train/masks'\n",
    "\n",
    "# Filenames\n",
    "image_files = sorted([f for f in os.listdir(data_path) if f.endswith('.tif')])\n",
    "mask_files = sorted([f for f in os.listdir(mask_path) if f.endswith('.tif')])\n",
    "image_mask_pairs = list(zip(image_files, mask_files))\n",
    "\n",
    "# Load existing mislabeled flags if available\n",
    "csv_path = 'mislabeled_flags.csv'\n",
    "if os.path.exists(csv_path):\n",
    "    df = pd.read_csv(csv_path)\n",
    "    mislabeled_status = {row['filename']: row['mislabeled'] for _, row in df.iterrows()}\n",
    "    print(\"✅ Loaded existing mislabeled_flags.csv\")\n",
    "else:\n",
    "    mislabeled_status = {filename: 'no' for filename in image_files}\n",
    "\n",
    "# Widgets\n",
    "index_slider = widgets.IntSlider(min=0, max=len(image_mask_pairs)-1, step=1, description='Index')\n",
    "status_label = widgets.Label()\n",
    "toggle_button = widgets.Button(description=\"Toggle Mislabeled\", button_style='')\n",
    "export_button = widgets.Button(description=\"Export CSV\", button_style='success')\n",
    "output = widgets.Output()\n",
    "\n",
    "def normalize_rgb(img):\n",
    "    img = img.astype('float32')\n",
    "    normalize_band = lambda band: (band - band.min() + 1e-5) / (band.max() - band.min() + 1e-5)\n",
    "    for i in range(3):\n",
    "        img[..., i] = normalize_band(img[..., i])\n",
    "    return img[..., :3]\n",
    "\n",
    "def update_display(i):\n",
    "    output.clear_output(wait=True)\n",
    "    with output:\n",
    "        img_name, mask_name = image_mask_pairs[i]\n",
    "        image = normalize_rgb(tiff.imread(os.path.join(data_path, img_name)))\n",
    "        ir = tiff.imread(os.path.join(data_path, img_name))[..., 3]\n",
    "        if ir.dtype != 'uint8':\n",
    "            ir = ir.astype('float32')\n",
    "            ir = (ir - ir.min() + 1e-5) / (ir.max() - ir.min() + 1e-5)\n",
    "        mean_image = np.mean(image, axis=2)\n",
    "        if mean_image.dtype != 'uint8':\n",
    "            mean_image = mean_image.astype('float32')\n",
    "            mean_image = (mean_image - mean_image.min() + 1e-5) / (mean_image.max() - mean_image.min() + 1e-5)\n",
    "        diff = ir - mean_image\n",
    "        diff_mask = np.zeros(diff.shape, np.dtype('float32'))\n",
    "        idx = np.all([ir > 0.4, abs(diff) < 0.3], axis=0)\n",
    "        diff_mask[idx] = 1.0\n",
    "        mask = tiff.imread(os.path.join(mask_path, mask_name))\n",
    "        fig, axes = plt.subplots(1, 3, figsize=(12, 6))\n",
    "        axes[0].imshow(image)\n",
    "        axes[0].set_title(f'Image (RGB): {img_name}')\n",
    "        axes[0].axis('off')\n",
    "\n",
    "        axes[1].imshow(mask, cmap='gray')\n",
    "        axes[1].set_title(f'Mask: {mask_name}')\n",
    "        axes[1].axis('off')\n",
    "        \n",
    "        axes[2].imshow(diff_mask, cmap='gray')\n",
    "        axes[2].set_title(f'Diff Mask: {img_name}')\n",
    "        axes[2].axis('off')\n",
    "\n",
    "\n",
    "        plt.show()\n",
    "\n",
    "        # Update label\n",
    "        label = mislabeled_status.get(img_name, 'no')\n",
    "        status_label.value = f\"Mislabeled: {label.upper()}\"\n",
    "\n",
    "def on_toggle_clicked(_):\n",
    "    i = index_slider.value\n",
    "    filename = image_mask_pairs[i][0]\n",
    "    current = mislabeled_status.get(filename, 'no')\n",
    "    mislabeled_status[filename] = 'no' if current == 'yes' else 'yes'\n",
    "    update_display(i)\n",
    "\n",
    "def on_export_clicked(_):\n",
    "    df = pd.DataFrame([\n",
    "        {'id': i, 'filename': fname, 'mislabeled': mislabeled_status.get(fname, 'no')}\n",
    "        for i, fname in enumerate(image_files)\n",
    "    ])\n",
    "    df.to_csv(csv_path, index=False)\n",
    "    with output:\n",
    "        print(\"✅ CSV file 'mislabeled_flags.csv' has been saved.\")\n",
    "\n",
    "def on_slider_change(change):\n",
    "    update_display(change['new'])\n",
    "\n",
    "# Event connections\n",
    "index_slider.observe(on_slider_change, names='value')\n",
    "toggle_button.on_click(on_toggle_clicked)\n",
    "export_button.on_click(on_export_clicked)\n",
    "\n",
    "# Display everything\n",
    "ui = widgets.VBox([index_slider, toggle_button, status_label, export_button, output])\n",
    "display(ui)\n",
    "\n",
    "# Initial display\n",
    "update_display(0)\n"
   ]
  },
  {
   "cell_type": "code",
   "execution_count": null,
   "metadata": {
    "trusted": true
   },
   "outputs": [],
   "source": []
  }
 ],
 "metadata": {
  "kaggle": {
   "accelerator": "none",
   "dataSources": [
    {
     "datasetId": 7068540,
     "sourceId": 11302639,
     "sourceType": "datasetVersion"
    }
   ],
   "dockerImageVersionId": 31012,
   "isGpuEnabled": false,
   "isInternetEnabled": true,
   "language": "python",
   "sourceType": "notebook"
  },
  "kernelspec": {
   "display_name": "Python 3",
   "language": "python",
   "name": "python3"
  },
  "language_info": {
   "codemirror_mode": {
    "name": "ipython",
    "version": 3
   },
   "file_extension": ".py",
   "mimetype": "text/x-python",
   "name": "python",
   "nbconvert_exporter": "python",
   "pygments_lexer": "ipython3",
   "version": "3.11.11"
  }
 },
 "nbformat": 4,
 "nbformat_minor": 4
}
